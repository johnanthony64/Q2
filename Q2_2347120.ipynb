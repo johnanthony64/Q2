{
 "cells": [
  {
   "cell_type": "code",
   "execution_count": 1,
   "metadata": {},
   "outputs": [
    {
     "name": "stdout",
     "output_type": "stream",
     "text": [
      "33 numbers divisible by 3:\n",
      "\n",
      " sqaure of 50 even numbers:\n",
      " [4, 16, 36, 64, 100, 144, 196, 256, 324, 400, 484, 576, 676, 784, 900, 1024, 1156, 1296, 1444, 1600, 1764, 1936, 2116, 2304, 2500, 2704, 2916, 3136, 3364, 3600, 3844, 4096, 4356, 4624, 4900, 5184, 5476, 5776, 6084, 6400, 6724, 7056, 7396, 7744, 8100, 8464, 8836, 9216, 9604, 10000]\n",
      "\n",
      " sum of all even numbers:\n",
      " [4, 16, 36, 64, 100, 144, 196, 256, 324, 400, 484, 576, 676, 784, 900, 1024, 1156, 1296, 1444, 1600, 1764, 1936, 2116, 2304, 2500, 2704, 2916, 3136, 3364, 3600, 3844, 4096, 4356, 4624, 4900, 5184, 5476, 5776, 6084, 6400, 6724, 7056, 7396, 7744, 8100, 8464, 8836, 9216, 9604, 10000]\n",
      "\n",
      " Original list:\n",
      " [1, 2, 3, 4, 5, 6, 7, 8, 9, 10, 11, 12, 13, 14, 15, 16, 17, 18, 19, 20, 21, 22, 23, 24, 25, 26, 27, 28, 29, 30, 31, 32, 33, 34, 35, 36, 37, 38, 39, 40, 41, 42, 43, 44, 45, 46, 47, 48, 49, 50, 51, 52, 53, 54, 55, 56, 57, 58, 59, 60, 61, 62, 63, 64, 65, 66, 67, 68, 69, 70, 71, 72, 73, 74, 75, 76, 77, 78, 79, 80, 81, 82, 83, 84, 85, 86, 87, 88, 89, 90, 91, 92, 93, 94, 95, 96, 97, 98, 99, 100]\n",
      "\n",
      " Duplicate removed:\n",
      " [1, 2, 3, 4, 5, 6, 7, 8, 9, 10, 11, 12, 13, 14, 15, 16, 17, 18, 19, 20, 21, 22, 23, 24, 25, 26, 27, 28, 29, 30, 31, 32, 33, 34, 35, 36, 37, 38, 39, 40, 41, 42, 43, 44, 45, 46, 47, 48, 49, 50, 51, 52, 53, 54, 55, 56, 57, 58, 59, 60, 61, 62, 63, 64, 65, 66, 67, 68, 69, 70, 71, 72, 73, 74, 75, 76, 77, 78, 79, 80, 81, 82, 83, 84, 85, 86, 87, 88, 89, 90, 91, 92, 93, 94, 95, 96, 97, 98, 99, 100] \n",
      "\n",
      "\n"
     ]
    }
   ],
   "source": [
    "# list \n",
    "price = [i for i in range(1,101)]\n",
    "\n",
    "divby3 = [i for i in price if i%3==0]\n",
    "print(len(divby3), \"numbers divisible by 3:\")\n",
    "\n",
    "sq= [ i**2 for i in price if i%2==0 ] \n",
    "print(\"\\n sqaure of\", len(sq), \"even numbers:\\n\",sq)\n",
    "\n",
    "s = sum ([i for i in price if i%2==0])\n",
    "print(\"\\n sum of all even numbers:\\n\", sq)\n",
    "\n",
    "print (\"\\n Original list:\\n\", price)\n",
    "price= list(set(price))\n",
    "print(\"\\n Duplicate removed:\\n\", price, \"\\n\\n\")"
   ]
  },
  {
   "cell_type": "code",
   "execution_count": 4,
   "metadata": {},
   "outputs": [],
   "source": [
    "## Dictionary\n",
    "def func(food):\n",
    "    foodexpiry={\n",
    "        \"IceCream\": \"12 March 2023\", \n",
    "         \"Sweets\": \"13 April 2023\", \n",
    "         \"Biryani\": \"24 Sep 2023\",\n",
    "    }\n",
    "    print(\"The expiry of\", food, \"is\", foodexpiry[food])\n",
    "\n",
    "food=input(\"Enter food name: \")\n",
    "func(food)"
   ]
  }
 ],
 "metadata": {
  "kernelspec": {
   "display_name": "Python 3",
   "language": "python",
   "name": "python3"
  },
  "language_info": {
   "codemirror_mode": {
    "name": "ipython",
    "version": 3
   },
   "file_extension": ".py",
   "mimetype": "text/x-python",
   "name": "python",
   "nbconvert_exporter": "python",
   "pygments_lexer": "ipython3",
   "version": "3.11.4"
  },
  "orig_nbformat": 4
 },
 "nbformat": 4,
 "nbformat_minor": 2
}
